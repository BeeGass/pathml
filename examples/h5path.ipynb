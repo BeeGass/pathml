{
 "cells": [
  {
   "cell_type": "markdown",
   "id": "e3ce1ba5-be22-486a-9d01-2ee5cd0fae99",
   "metadata": {
    "tags": []
   },
   "source": [
    "# The .h5path File Format"
   ]
  },
  {
   "cell_type": "markdown",
   "id": "4e0192f6-e2b1-410d-941d-83d3a6bd399a",
   "metadata": {},
   "source": [
    "In this notebook we will explore the .h5path file format. Let's begin by creating and processing a H&E whole slide image."
   ]
  },
  {
   "cell_type": "code",
   "execution_count": 1,
   "id": "0be8b2b7-8bf6-44ff-8a3f-4cc3f95f17f6",
   "metadata": {},
   "outputs": [],
   "source": [
    "# load slide\n",
    "from pathml.core.slide_classes import HESlide\n",
    "from pathml.core.h5path import read\n",
    "wsi = HESlide(\"../tests/testdata/small_HE.svs\", name = \"example\")"
   ]
  },
  {
   "cell_type": "markdown",
   "id": "ef6fdce0-9410-44b6-a064-82ec768b0116",
   "metadata": {},
   "source": [
    "Our H&E slide has been converted into a pathml SlideData object of type HESlide. SlideData objects contain a reference to the original slide with an appropriate backend (in this case OpenSlide reads RGB .svs files), masks, tiles, and labels."
   ]
  },
  {
   "cell_type": "code",
   "execution_count": 2,
   "id": "9a23c6c0-dea0-4003-83a9-22ea3c2482ca",
   "metadata": {},
   "outputs": [
    {
     "data": {
      "text/plain": [
       "HESlide(name=example, slide = <pathml.core.slide_backends.OpenSlideBackend object at 0x7f8c1149c850>, masks=None, tiles=None, labels=None, history=None)"
      ]
     },
     "execution_count": 2,
     "metadata": {},
     "output_type": "execute_result"
    }
   ],
   "source": [
    "wsi"
   ]
  },
  {
   "cell_type": "code",
   "execution_count": 3,
   "id": "7b0c199c-1352-49f9-bf30-80725e253d5f",
   "metadata": {},
   "outputs": [],
   "source": [
    "# declare and run pipeline\n",
    "from pathml.preprocessing.pipeline import Pipeline\n",
    "from pathml.preprocessing.transforms import BoxBlur, TissueDetectionHE\n",
    "\n",
    "pipeline = Pipeline([\n",
    "    BoxBlur(kernel_size=15),\n",
    "    TissueDetectionHE(mask_name = \"tissue\", min_region_size=500, \n",
    "                      threshold=30, outer_contours_only=True)\n",
    "])\n",
    "\n",
    "wsi.run(pipeline, tile_size=256)"
   ]
  },
  {
   "cell_type": "markdown",
   "id": "71c6a769-d864-4cb2-8cf5-7a1873306050",
   "metadata": {},
   "source": [
    "Our pipeline added tiles to wsi.tiles."
   ]
  },
  {
   "cell_type": "code",
   "execution_count": 4,
   "id": "d052b4d1-e34c-4535-9da0-dd0b402df0a1",
   "metadata": {},
   "outputs": [
    {
     "data": {
      "text/plain": [
       "Tiles(keys=OrderedDict([('(256, 0)', {'name': None, 'labels': None, 'coords': '(256, 0)', 'slidetype': <class 'pathml.core.slide_classes.HESlide'>}), ('(512, 0)', {'name': None, 'labels': None, 'coords': '(512, 0)', 'slidetype': <class 'pathml.core.slide_classes.HESlide'>}), ('(512, 256)', {'name': None, 'labels': None, 'coords': '(512, 256)', 'slidetype': <class 'pathml.core.slide_classes.HESlide'>}), ('(768, 512)', {'name': None, 'labels': None, 'coords': '(768, 512)', 'slidetype': <class 'pathml.core.slide_classes.HESlide'>}), ('(0, 512)', {'name': None, 'labels': None, 'coords': '(0, 512)', 'slidetype': <class 'pathml.core.slide_classes.HESlide'>}), ('(1536, 512)', {'name': None, 'labels': None, 'coords': '(1536, 512)', 'slidetype': <class 'pathml.core.slide_classes.HESlide'>}), ('(256, 256)', {'name': None, 'labels': None, 'coords': '(256, 256)', 'slidetype': <class 'pathml.core.slide_classes.HESlide'>}), ('(768, 256)', {'name': None, 'labels': None, 'coords': '(768, 256)', 'slidetype': <class 'pathml.core.slide_classes.HESlide'>}), ('(1792, 512)', {'name': None, 'labels': None, 'coords': '(1792, 512)', 'slidetype': <class 'pathml.core.slide_classes.HESlide'>}), ('(0, 0)', {'name': None, 'labels': None, 'coords': '(0, 0)', 'slidetype': <class 'pathml.core.slide_classes.HESlide'>}), ('(1792, 0)', {'name': None, 'labels': None, 'coords': '(1792, 0)', 'slidetype': <class 'pathml.core.slide_classes.HESlide'>}), ('(1280, 256)', {'name': None, 'labels': None, 'coords': '(1280, 256)', 'slidetype': <class 'pathml.core.slide_classes.HESlide'>}), ('(256, 512)', {'name': None, 'labels': None, 'coords': '(256, 512)', 'slidetype': <class 'pathml.core.slide_classes.HESlide'>}), ('(1280, 512)', {'name': None, 'labels': None, 'coords': '(1280, 512)', 'slidetype': <class 'pathml.core.slide_classes.HESlide'>}), ('(512, 512)', {'name': None, 'labels': None, 'coords': '(512, 512)', 'slidetype': <class 'pathml.core.slide_classes.HESlide'>}), ('(1024, 0)', {'name': None, 'labels': None, 'coords': '(1024, 0)', 'slidetype': <class 'pathml.core.slide_classes.HESlide'>}), ('(0, 2048)', {'name': None, 'labels': None, 'coords': '(0, 2048)', 'slidetype': <class 'pathml.core.slide_classes.HESlide'>}), ('(768, 768)', {'name': None, 'labels': None, 'coords': '(768, 768)', 'slidetype': <class 'pathml.core.slide_classes.HESlide'>}), ('(1024, 1280)', {'name': None, 'labels': None, 'coords': '(1024, 1280)', 'slidetype': <class 'pathml.core.slide_classes.HESlide'>}), ('(1024, 768)', {'name': None, 'labels': None, 'coords': '(1024, 768)', 'slidetype': <class 'pathml.core.slide_classes.HESlide'>}), ('(0, 768)', {'name': None, 'labels': None, 'coords': '(0, 768)', 'slidetype': <class 'pathml.core.slide_classes.HESlide'>}), ('(1792, 2560)', {'name': None, 'labels': None, 'coords': '(1792, 2560)', 'slidetype': <class 'pathml.core.slide_classes.HESlide'>}), ('(1536, 1024)', {'name': None, 'labels': None, 'coords': '(1536, 1024)', 'slidetype': <class 'pathml.core.slide_classes.HESlide'>}), ('(1280, 2560)', {'name': None, 'labels': None, 'coords': '(1280, 2560)', 'slidetype': <class 'pathml.core.slide_classes.HESlide'>}), ('(256, 2560)', {'name': None, 'labels': None, 'coords': '(256, 2560)', 'slidetype': <class 'pathml.core.slide_classes.HESlide'>}), ('(0, 1024)', {'name': None, 'labels': None, 'coords': '(0, 1024)', 'slidetype': <class 'pathml.core.slide_classes.HESlide'>}), ('(768, 1024)', {'name': None, 'labels': None, 'coords': '(768, 1024)', 'slidetype': <class 'pathml.core.slide_classes.HESlide'>}), ('(512, 2560)', {'name': None, 'labels': None, 'coords': '(512, 2560)', 'slidetype': <class 'pathml.core.slide_classes.HESlide'>}), ('(1024, 512)', {'name': None, 'labels': None, 'coords': '(1024, 512)', 'slidetype': <class 'pathml.core.slide_classes.HESlide'>}), ('(1792, 256)', {'name': None, 'labels': None, 'coords': '(1792, 256)', 'slidetype': <class 'pathml.core.slide_classes.HESlide'>}), ('(512, 1792)', {'name': None, 'labels': None, 'coords': '(512, 1792)', 'slidetype': <class 'pathml.core.slide_classes.HESlide'>}), ('(1280, 1792)', {'name': None, 'labels': None, 'coords': '(1280, 1792)', 'slidetype': <class 'pathml.core.slide_classes.HESlide'>}), ('(1536, 256)', {'name': None, 'labels': None, 'coords': '(1536, 256)', 'slidetype': <class 'pathml.core.slide_classes.HESlide'>}), ('(0, 256)', {'name': None, 'labels': None, 'coords': '(0, 256)', 'slidetype': <class 'pathml.core.slide_classes.HESlide'>}), ('(1024, 256)', {'name': None, 'labels': None, 'coords': '(1024, 256)', 'slidetype': <class 'pathml.core.slide_classes.HESlide'>}), ('(1536, 0)', {'name': None, 'labels': None, 'coords': '(1536, 0)', 'slidetype': <class 'pathml.core.slide_classes.HESlide'>}), ('(1792, 1536)', {'name': None, 'labels': None, 'coords': '(1792, 1536)', 'slidetype': <class 'pathml.core.slide_classes.HESlide'>}), ('(1280, 0)', {'name': None, 'labels': None, 'coords': '(1280, 0)', 'slidetype': <class 'pathml.core.slide_classes.HESlide'>}), ('(256, 2048)', {'name': None, 'labels': None, 'coords': '(256, 2048)', 'slidetype': <class 'pathml.core.slide_classes.HESlide'>}), ('(768, 0)', {'name': None, 'labels': None, 'coords': '(768, 0)', 'slidetype': <class 'pathml.core.slide_classes.HESlide'>}), ('(256, 1536)', {'name': None, 'labels': None, 'coords': '(256, 1536)', 'slidetype': <class 'pathml.core.slide_classes.HESlide'>}), ('(1024, 1536)', {'name': None, 'labels': None, 'coords': '(1024, 1536)', 'slidetype': <class 'pathml.core.slide_classes.HESlide'>}), ('(768, 1792)', {'name': None, 'labels': None, 'coords': '(768, 1792)', 'slidetype': <class 'pathml.core.slide_classes.HESlide'>}), ('(1792, 1792)', {'name': None, 'labels': None, 'coords': '(1792, 1792)', 'slidetype': <class 'pathml.core.slide_classes.HESlide'>}), ('(256, 1792)', {'name': None, 'labels': None, 'coords': '(256, 1792)', 'slidetype': <class 'pathml.core.slide_classes.HESlide'>}), ('(1536, 1280)', {'name': None, 'labels': None, 'coords': '(1536, 1280)', 'slidetype': <class 'pathml.core.slide_classes.HESlide'>}), ('(1024, 1792)', {'name': None, 'labels': None, 'coords': '(1024, 1792)', 'slidetype': <class 'pathml.core.slide_classes.HESlide'>}), ('(1536, 1536)', {'name': None, 'labels': None, 'coords': '(1536, 1536)', 'slidetype': <class 'pathml.core.slide_classes.HESlide'>}), ('(768, 1280)', {'name': None, 'labels': None, 'coords': '(768, 1280)', 'slidetype': <class 'pathml.core.slide_classes.HESlide'>}), ('(0, 1280)', {'name': None, 'labels': None, 'coords': '(0, 1280)', 'slidetype': <class 'pathml.core.slide_classes.HESlide'>}), ('(768, 1536)', {'name': None, 'labels': None, 'coords': '(768, 1536)', 'slidetype': <class 'pathml.core.slide_classes.HESlide'>}), ('(1280, 1024)', {'name': None, 'labels': None, 'coords': '(1280, 1024)', 'slidetype': <class 'pathml.core.slide_classes.HESlide'>}), ('(0, 1792)', {'name': None, 'labels': None, 'coords': '(0, 1792)', 'slidetype': <class 'pathml.core.slide_classes.HESlide'>}), ('(1280, 1536)', {'name': None, 'labels': None, 'coords': '(1280, 1536)', 'slidetype': <class 'pathml.core.slide_classes.HESlide'>}), ('(1536, 1792)', {'name': None, 'labels': None, 'coords': '(1536, 1792)', 'slidetype': <class 'pathml.core.slide_classes.HESlide'>}), ('(0, 1536)', {'name': None, 'labels': None, 'coords': '(0, 1536)', 'slidetype': <class 'pathml.core.slide_classes.HESlide'>}), ('(1024, 2560)', {'name': None, 'labels': None, 'coords': '(1024, 2560)', 'slidetype': <class 'pathml.core.slide_classes.HESlide'>}), ('(1536, 2304)', {'name': None, 'labels': None, 'coords': '(1536, 2304)', 'slidetype': <class 'pathml.core.slide_classes.HESlide'>}), ('(512, 768)', {'name': None, 'labels': None, 'coords': '(512, 768)', 'slidetype': <class 'pathml.core.slide_classes.HESlide'>}), ('(1280, 768)', {'name': None, 'labels': None, 'coords': '(1280, 768)', 'slidetype': <class 'pathml.core.slide_classes.HESlide'>}), ('(768, 2304)', {'name': None, 'labels': None, 'coords': '(768, 2304)', 'slidetype': <class 'pathml.core.slide_classes.HESlide'>}), ('(0, 2304)', {'name': None, 'labels': None, 'coords': '(0, 2304)', 'slidetype': <class 'pathml.core.slide_classes.HESlide'>}), ('(512, 2048)', {'name': None, 'labels': None, 'coords': '(512, 2048)', 'slidetype': <class 'pathml.core.slide_classes.HESlide'>}), ('(1536, 2560)', {'name': None, 'labels': None, 'coords': '(1536, 2560)', 'slidetype': <class 'pathml.core.slide_classes.HESlide'>}), ('(1792, 2304)', {'name': None, 'labels': None, 'coords': '(1792, 2304)', 'slidetype': <class 'pathml.core.slide_classes.HESlide'>}), ('(1280, 1280)', {'name': None, 'labels': None, 'coords': '(1280, 1280)', 'slidetype': <class 'pathml.core.slide_classes.HESlide'>}), ('(512, 1280)', {'name': None, 'labels': None, 'coords': '(512, 1280)', 'slidetype': <class 'pathml.core.slide_classes.HESlide'>}), ('(1792, 1024)', {'name': None, 'labels': None, 'coords': '(1792, 1024)', 'slidetype': <class 'pathml.core.slide_classes.HESlide'>}), ('(1024, 1024)', {'name': None, 'labels': None, 'coords': '(1024, 1024)', 'slidetype': <class 'pathml.core.slide_classes.HESlide'>}), ('(1792, 1280)', {'name': None, 'labels': None, 'coords': '(1792, 1280)', 'slidetype': <class 'pathml.core.slide_classes.HESlide'>}), ('(512, 1024)', {'name': None, 'labels': None, 'coords': '(512, 1024)', 'slidetype': <class 'pathml.core.slide_classes.HESlide'>}), ('(1792, 768)', {'name': None, 'labels': None, 'coords': '(1792, 768)', 'slidetype': <class 'pathml.core.slide_classes.HESlide'>}), ('(256, 1024)', {'name': None, 'labels': None, 'coords': '(256, 1024)', 'slidetype': <class 'pathml.core.slide_classes.HESlide'>}), ('(1536, 768)', {'name': None, 'labels': None, 'coords': '(1536, 768)', 'slidetype': <class 'pathml.core.slide_classes.HESlide'>}), ('(512, 1536)', {'name': None, 'labels': None, 'coords': '(512, 1536)', 'slidetype': <class 'pathml.core.slide_classes.HESlide'>}), ('(256, 1280)', {'name': None, 'labels': None, 'coords': '(256, 1280)', 'slidetype': <class 'pathml.core.slide_classes.HESlide'>}), ('(256, 768)', {'name': None, 'labels': None, 'coords': '(256, 768)', 'slidetype': <class 'pathml.core.slide_classes.HESlide'>}), ('(1280, 2048)', {'name': None, 'labels': None, 'coords': '(1280, 2048)', 'slidetype': <class 'pathml.core.slide_classes.HESlide'>}), ('(768, 2560)', {'name': None, 'labels': None, 'coords': '(768, 2560)', 'slidetype': <class 'pathml.core.slide_classes.HESlide'>}), ('(1024, 2304)', {'name': None, 'labels': None, 'coords': '(1024, 2304)', 'slidetype': <class 'pathml.core.slide_classes.HESlide'>}), ('(0, 2560)', {'name': None, 'labels': None, 'coords': '(0, 2560)', 'slidetype': <class 'pathml.core.slide_classes.HESlide'>}), ('(256, 2304)', {'name': None, 'labels': None, 'coords': '(256, 2304)', 'slidetype': <class 'pathml.core.slide_classes.HESlide'>}), ('(1280, 2304)', {'name': None, 'labels': None, 'coords': '(1280, 2304)', 'slidetype': <class 'pathml.core.slide_classes.HESlide'>}), ('(512, 2304)', {'name': None, 'labels': None, 'coords': '(512, 2304)', 'slidetype': <class 'pathml.core.slide_classes.HESlide'>}), ('(1536, 2048)', {'name': None, 'labels': None, 'coords': '(1536, 2048)', 'slidetype': <class 'pathml.core.slide_classes.HESlide'>}), ('(768, 2048)', {'name': None, 'labels': None, 'coords': '(768, 2048)', 'slidetype': <class 'pathml.core.slide_classes.HESlide'>}), ('(1792, 2048)', {'name': None, 'labels': None, 'coords': '(1792, 2048)', 'slidetype': <class 'pathml.core.slide_classes.HESlide'>}), ('(1024, 2048)', {'name': None, 'labels': None, 'coords': '(1024, 2048)', 'slidetype': <class 'pathml.core.slide_classes.HESlide'>})]))"
      ]
     },
     "execution_count": 4,
     "metadata": {},
     "output_type": "execute_result"
    }
   ],
   "source": [
    "wsi.tiles"
   ]
  },
  {
   "cell_type": "markdown",
   "id": "442f8625-9261-4c9e-ae97-e884fbf63124",
   "metadata": {},
   "source": [
    "Behind the scenes, these tiles are managed in a temporary h5py file."
   ]
  },
  {
   "cell_type": "code",
   "execution_count": 5,
   "id": "53ba6934-9875-4462-808c-53d143c773f0",
   "metadata": {},
   "outputs": [
    {
     "data": {
      "text/plain": [
       "<KeysViewHDF5 ['array', 'masks', 'tiles']>"
      ]
     },
     "execution_count": 5,
     "metadata": {},
     "output_type": "execute_result"
    }
   ],
   "source": [
    "wsi.tiles.h5manager.h5.keys()"
   ]
  },
  {
   "cell_type": "markdown",
   "id": "97dea9d6-b9f5-4394-a2e5-14eb448d8b7e",
   "metadata": {},
   "source": [
    "When we save to h5path, we are persisting this temporary file and all other data attached to wsi (i.e. our whole slidedata object) to disk."
   ]
  },
  {
   "cell_type": "code",
   "execution_count": 6,
   "id": "13d6d871-36f8-4c0f-916a-004a13d9b9c8",
   "metadata": {},
   "outputs": [],
   "source": [
    "wsi.write('slidedataobject.h5path')"
   ]
  },
  {
   "cell_type": "markdown",
   "id": "d31895ab-a63f-49f7-aa49-c7a530f9b602",
   "metadata": {},
   "source": [
    "For developers: let's look at slidedataobject.h5path on disk. "
   ]
  },
  {
   "cell_type": "code",
   "execution_count": 7,
   "id": "8762fa11-aa8e-4350-a55d-ccc17923ee97",
   "metadata": {},
   "outputs": [
    {
     "data": {
      "text/plain": [
       "<KeysViewHDF5 ['array', 'fields', 'masks', 'tiles']>"
      ]
     },
     "execution_count": 7,
     "metadata": {},
     "output_type": "execute_result"
    }
   ],
   "source": [
    "import h5py\n",
    "f = h5py.File('slidedataobject.h5path', 'r')\n",
    "f.keys()"
   ]
  },
  {
   "cell_type": "markdown",
   "id": "096ecbb5-743a-4661-8d2c-754e21956015",
   "metadata": {},
   "source": [
    "h5path contains h5py.Datasets 'array' and 'masks' where all tiles and masks are aggregated into slide-sized arrays. "
   ]
  },
  {
   "cell_type": "code",
   "execution_count": 8,
   "id": "ec50cf0c-03e7-4aef-b5a8-428d129b84b9",
   "metadata": {},
   "outputs": [
    {
     "name": "stdout",
     "output_type": "stream",
     "text": [
      "(2048, 2816, 3)\n",
      "(2048, 2816)\n"
     ]
    }
   ],
   "source": [
    "print(f['array'].shape)\n",
    "print(f['masks']['tissue'].shape)"
   ]
  },
  {
   "cell_type": "markdown",
   "id": "e1bd867a-8aaa-44e2-9c12-ec2cd4562a2d",
   "metadata": {},
   "source": [
    "'fields' is a h5py.Group with attached h5py.Attributes that store metadata about slidedata."
   ]
  },
  {
   "cell_type": "code",
   "execution_count": 9,
   "id": "8d2c709a-ed1e-4ba6-93a1-d1ccf301af88",
   "metadata": {},
   "outputs": [
    {
     "name": "stdout",
     "output_type": "stream",
     "text": [
      "<KeysViewHDF5 ['name', 'slide_backend']>\n"
     ]
    }
   ],
   "source": [
    "print(f['fields'].attrs.keys())"
   ]
  },
  {
   "cell_type": "markdown",
   "id": "2d0ee6bf-9892-4d4e-9868-0681baee7e78",
   "metadata": {},
   "source": [
    "'tiles' is a h5py.Group that stores where each tile is located in 'array' and 'masks', and metadata describing each tile."
   ]
  },
  {
   "cell_type": "code",
   "execution_count": 10,
   "id": "9237b921-abd0-4294-9c0f-c36f8a30b36a",
   "metadata": {},
   "outputs": [
    {
     "name": "stdout",
     "output_type": "stream",
     "text": [
      "<KeysViewHDF5 ['(0, 0)', '(0, 1024)', '(0, 1280)', '(0, 1536)', '(0, 1792)', '(0, 2048)', '(0, 2304)', '(0, 256)', '(0, 2560)', '(0, 512)', '(0, 768)', '(1024, 0)', '(1024, 1024)', '(1024, 1280)', '(1024, 1536)', '(1024, 1792)', '(1024, 2048)', '(1024, 2304)', '(1024, 256)', '(1024, 2560)', '(1024, 512)', '(1024, 768)', '(1280, 0)', '(1280, 1024)', '(1280, 1280)', '(1280, 1536)', '(1280, 1792)', '(1280, 2048)', '(1280, 2304)', '(1280, 256)', '(1280, 2560)', '(1280, 512)', '(1280, 768)', '(1536, 0)', '(1536, 1024)', '(1536, 1280)', '(1536, 1536)', '(1536, 1792)', '(1536, 2048)', '(1536, 2304)', '(1536, 256)', '(1536, 2560)', '(1536, 512)', '(1536, 768)', '(1792, 0)', '(1792, 1024)', '(1792, 1280)', '(1792, 1536)', '(1792, 1792)', '(1792, 2048)', '(1792, 2304)', '(1792, 256)', '(1792, 2560)', '(1792, 512)', '(1792, 768)', '(256, 0)', '(256, 1024)', '(256, 1280)', '(256, 1536)', '(256, 1792)', '(256, 2048)', '(256, 2304)', '(256, 256)', '(256, 2560)', '(256, 512)', '(256, 768)', '(512, 0)', '(512, 1024)', '(512, 1280)', '(512, 1536)', '(512, 1792)', '(512, 2048)', '(512, 2304)', '(512, 256)', '(512, 2560)', '(512, 512)', '(512, 768)', '(768, 0)', '(768, 1024)', '(768, 1280)', '(768, 1536)', '(768, 1792)', '(768, 2048)', '(768, 2304)', '(768, 256)', '(768, 2560)', '(768, 512)', '(768, 768)']>\n",
      "<KeysViewHDF5 ['name', 'labels', 'coords', 'slidetype']>\n"
     ]
    }
   ],
   "source": [
    "print(f['tiles'].keys())\n",
    "print(f['tiles']['(0, 0)'].keys())"
   ]
  },
  {
   "cell_type": "markdown",
   "id": "1298d260-a923-4236-b1ae-9830c0ea8556",
   "metadata": {},
   "source": [
    "PathML's read function recognizes and loads slidedata objects from the .h5path format."
   ]
  },
  {
   "cell_type": "code",
   "execution_count": 11,
   "id": "5962a8c3-64f9-40ec-ae3b-6ef1d50ce5d0",
   "metadata": {},
   "outputs": [
    {
     "data": {
      "text/plain": [
       "SlideData(name=example, slide = None, masks=None, tiles=Tiles(keys=OrderedDict([('(0, 0)', {'name': None, 'labels': None, 'coords': '(0, 0)', 'slidetype': <class 'pathml.core.slide_classes.HESlide'>}), ('(0, 1024)', {'name': None, 'labels': None, 'coords': '(0, 1024)', 'slidetype': <class 'pathml.core.slide_classes.HESlide'>}), ('(0, 1280)', {'name': None, 'labels': None, 'coords': '(0, 1280)', 'slidetype': <class 'pathml.core.slide_classes.HESlide'>}), ('(0, 1536)', {'name': None, 'labels': None, 'coords': '(0, 1536)', 'slidetype': <class 'pathml.core.slide_classes.HESlide'>}), ('(0, 1792)', {'name': None, 'labels': None, 'coords': '(0, 1792)', 'slidetype': <class 'pathml.core.slide_classes.HESlide'>}), ('(0, 2048)', {'name': None, 'labels': None, 'coords': '(0, 2048)', 'slidetype': <class 'pathml.core.slide_classes.HESlide'>}), ('(0, 2304)', {'name': None, 'labels': None, 'coords': '(0, 2304)', 'slidetype': <class 'pathml.core.slide_classes.HESlide'>}), ('(0, 256)', {'name': None, 'labels': None, 'coords': '(0, 256)', 'slidetype': <class 'pathml.core.slide_classes.HESlide'>}), ('(0, 2560)', {'name': None, 'labels': None, 'coords': '(0, 2560)', 'slidetype': <class 'pathml.core.slide_classes.HESlide'>}), ('(0, 512)', {'name': None, 'labels': None, 'coords': '(0, 512)', 'slidetype': <class 'pathml.core.slide_classes.HESlide'>}), ('(0, 768)', {'name': None, 'labels': None, 'coords': '(0, 768)', 'slidetype': <class 'pathml.core.slide_classes.HESlide'>}), ('(1024, 0)', {'name': None, 'labels': None, 'coords': '(1024, 0)', 'slidetype': <class 'pathml.core.slide_classes.HESlide'>}), ('(1024, 1024)', {'name': None, 'labels': None, 'coords': '(1024, 1024)', 'slidetype': <class 'pathml.core.slide_classes.HESlide'>}), ('(1024, 1280)', {'name': None, 'labels': None, 'coords': '(1024, 1280)', 'slidetype': <class 'pathml.core.slide_classes.HESlide'>}), ('(1024, 1536)', {'name': None, 'labels': None, 'coords': '(1024, 1536)', 'slidetype': <class 'pathml.core.slide_classes.HESlide'>}), ('(1024, 1792)', {'name': None, 'labels': None, 'coords': '(1024, 1792)', 'slidetype': <class 'pathml.core.slide_classes.HESlide'>}), ('(1024, 2048)', {'name': None, 'labels': None, 'coords': '(1024, 2048)', 'slidetype': <class 'pathml.core.slide_classes.HESlide'>}), ('(1024, 2304)', {'name': None, 'labels': None, 'coords': '(1024, 2304)', 'slidetype': <class 'pathml.core.slide_classes.HESlide'>}), ('(1024, 256)', {'name': None, 'labels': None, 'coords': '(1024, 256)', 'slidetype': <class 'pathml.core.slide_classes.HESlide'>}), ('(1024, 2560)', {'name': None, 'labels': None, 'coords': '(1024, 2560)', 'slidetype': <class 'pathml.core.slide_classes.HESlide'>}), ('(1024, 512)', {'name': None, 'labels': None, 'coords': '(1024, 512)', 'slidetype': <class 'pathml.core.slide_classes.HESlide'>}), ('(1024, 768)', {'name': None, 'labels': None, 'coords': '(1024, 768)', 'slidetype': <class 'pathml.core.slide_classes.HESlide'>}), ('(1280, 0)', {'name': None, 'labels': None, 'coords': '(1280, 0)', 'slidetype': <class 'pathml.core.slide_classes.HESlide'>}), ('(1280, 1024)', {'name': None, 'labels': None, 'coords': '(1280, 1024)', 'slidetype': <class 'pathml.core.slide_classes.HESlide'>}), ('(1280, 1280)', {'name': None, 'labels': None, 'coords': '(1280, 1280)', 'slidetype': <class 'pathml.core.slide_classes.HESlide'>}), ('(1280, 1536)', {'name': None, 'labels': None, 'coords': '(1280, 1536)', 'slidetype': <class 'pathml.core.slide_classes.HESlide'>}), ('(1280, 1792)', {'name': None, 'labels': None, 'coords': '(1280, 1792)', 'slidetype': <class 'pathml.core.slide_classes.HESlide'>}), ('(1280, 2048)', {'name': None, 'labels': None, 'coords': '(1280, 2048)', 'slidetype': <class 'pathml.core.slide_classes.HESlide'>}), ('(1280, 2304)', {'name': None, 'labels': None, 'coords': '(1280, 2304)', 'slidetype': <class 'pathml.core.slide_classes.HESlide'>}), ('(1280, 256)', {'name': None, 'labels': None, 'coords': '(1280, 256)', 'slidetype': <class 'pathml.core.slide_classes.HESlide'>}), ('(1280, 2560)', {'name': None, 'labels': None, 'coords': '(1280, 2560)', 'slidetype': <class 'pathml.core.slide_classes.HESlide'>}), ('(1280, 512)', {'name': None, 'labels': None, 'coords': '(1280, 512)', 'slidetype': <class 'pathml.core.slide_classes.HESlide'>}), ('(1280, 768)', {'name': None, 'labels': None, 'coords': '(1280, 768)', 'slidetype': <class 'pathml.core.slide_classes.HESlide'>}), ('(1536, 0)', {'name': None, 'labels': None, 'coords': '(1536, 0)', 'slidetype': <class 'pathml.core.slide_classes.HESlide'>}), ('(1536, 1024)', {'name': None, 'labels': None, 'coords': '(1536, 1024)', 'slidetype': <class 'pathml.core.slide_classes.HESlide'>}), ('(1536, 1280)', {'name': None, 'labels': None, 'coords': '(1536, 1280)', 'slidetype': <class 'pathml.core.slide_classes.HESlide'>}), ('(1536, 1536)', {'name': None, 'labels': None, 'coords': '(1536, 1536)', 'slidetype': <class 'pathml.core.slide_classes.HESlide'>}), ('(1536, 1792)', {'name': None, 'labels': None, 'coords': '(1536, 1792)', 'slidetype': <class 'pathml.core.slide_classes.HESlide'>}), ('(1536, 2048)', {'name': None, 'labels': None, 'coords': '(1536, 2048)', 'slidetype': <class 'pathml.core.slide_classes.HESlide'>}), ('(1536, 2304)', {'name': None, 'labels': None, 'coords': '(1536, 2304)', 'slidetype': <class 'pathml.core.slide_classes.HESlide'>}), ('(1536, 256)', {'name': None, 'labels': None, 'coords': '(1536, 256)', 'slidetype': <class 'pathml.core.slide_classes.HESlide'>}), ('(1536, 2560)', {'name': None, 'labels': None, 'coords': '(1536, 2560)', 'slidetype': <class 'pathml.core.slide_classes.HESlide'>}), ('(1536, 512)', {'name': None, 'labels': None, 'coords': '(1536, 512)', 'slidetype': <class 'pathml.core.slide_classes.HESlide'>}), ('(1536, 768)', {'name': None, 'labels': None, 'coords': '(1536, 768)', 'slidetype': <class 'pathml.core.slide_classes.HESlide'>}), ('(1792, 0)', {'name': None, 'labels': None, 'coords': '(1792, 0)', 'slidetype': <class 'pathml.core.slide_classes.HESlide'>}), ('(1792, 1024)', {'name': None, 'labels': None, 'coords': '(1792, 1024)', 'slidetype': <class 'pathml.core.slide_classes.HESlide'>}), ('(1792, 1280)', {'name': None, 'labels': None, 'coords': '(1792, 1280)', 'slidetype': <class 'pathml.core.slide_classes.HESlide'>}), ('(1792, 1536)', {'name': None, 'labels': None, 'coords': '(1792, 1536)', 'slidetype': <class 'pathml.core.slide_classes.HESlide'>}), ('(1792, 1792)', {'name': None, 'labels': None, 'coords': '(1792, 1792)', 'slidetype': <class 'pathml.core.slide_classes.HESlide'>}), ('(1792, 2048)', {'name': None, 'labels': None, 'coords': '(1792, 2048)', 'slidetype': <class 'pathml.core.slide_classes.HESlide'>}), ('(1792, 2304)', {'name': None, 'labels': None, 'coords': '(1792, 2304)', 'slidetype': <class 'pathml.core.slide_classes.HESlide'>}), ('(1792, 256)', {'name': None, 'labels': None, 'coords': '(1792, 256)', 'slidetype': <class 'pathml.core.slide_classes.HESlide'>}), ('(1792, 2560)', {'name': None, 'labels': None, 'coords': '(1792, 2560)', 'slidetype': <class 'pathml.core.slide_classes.HESlide'>}), ('(1792, 512)', {'name': None, 'labels': None, 'coords': '(1792, 512)', 'slidetype': <class 'pathml.core.slide_classes.HESlide'>}), ('(1792, 768)', {'name': None, 'labels': None, 'coords': '(1792, 768)', 'slidetype': <class 'pathml.core.slide_classes.HESlide'>}), ('(256, 0)', {'name': None, 'labels': None, 'coords': '(256, 0)', 'slidetype': <class 'pathml.core.slide_classes.HESlide'>}), ('(256, 1024)', {'name': None, 'labels': None, 'coords': '(256, 1024)', 'slidetype': <class 'pathml.core.slide_classes.HESlide'>}), ('(256, 1280)', {'name': None, 'labels': None, 'coords': '(256, 1280)', 'slidetype': <class 'pathml.core.slide_classes.HESlide'>}), ('(256, 1536)', {'name': None, 'labels': None, 'coords': '(256, 1536)', 'slidetype': <class 'pathml.core.slide_classes.HESlide'>}), ('(256, 1792)', {'name': None, 'labels': None, 'coords': '(256, 1792)', 'slidetype': <class 'pathml.core.slide_classes.HESlide'>}), ('(256, 2048)', {'name': None, 'labels': None, 'coords': '(256, 2048)', 'slidetype': <class 'pathml.core.slide_classes.HESlide'>}), ('(256, 2304)', {'name': None, 'labels': None, 'coords': '(256, 2304)', 'slidetype': <class 'pathml.core.slide_classes.HESlide'>}), ('(256, 256)', {'name': None, 'labels': None, 'coords': '(256, 256)', 'slidetype': <class 'pathml.core.slide_classes.HESlide'>}), ('(256, 2560)', {'name': None, 'labels': None, 'coords': '(256, 2560)', 'slidetype': <class 'pathml.core.slide_classes.HESlide'>}), ('(256, 512)', {'name': None, 'labels': None, 'coords': '(256, 512)', 'slidetype': <class 'pathml.core.slide_classes.HESlide'>}), ('(256, 768)', {'name': None, 'labels': None, 'coords': '(256, 768)', 'slidetype': <class 'pathml.core.slide_classes.HESlide'>}), ('(512, 0)', {'name': None, 'labels': None, 'coords': '(512, 0)', 'slidetype': <class 'pathml.core.slide_classes.HESlide'>}), ('(512, 1024)', {'name': None, 'labels': None, 'coords': '(512, 1024)', 'slidetype': <class 'pathml.core.slide_classes.HESlide'>}), ('(512, 1280)', {'name': None, 'labels': None, 'coords': '(512, 1280)', 'slidetype': <class 'pathml.core.slide_classes.HESlide'>}), ('(512, 1536)', {'name': None, 'labels': None, 'coords': '(512, 1536)', 'slidetype': <class 'pathml.core.slide_classes.HESlide'>}), ('(512, 1792)', {'name': None, 'labels': None, 'coords': '(512, 1792)', 'slidetype': <class 'pathml.core.slide_classes.HESlide'>}), ('(512, 2048)', {'name': None, 'labels': None, 'coords': '(512, 2048)', 'slidetype': <class 'pathml.core.slide_classes.HESlide'>}), ('(512, 2304)', {'name': None, 'labels': None, 'coords': '(512, 2304)', 'slidetype': <class 'pathml.core.slide_classes.HESlide'>}), ('(512, 256)', {'name': None, 'labels': None, 'coords': '(512, 256)', 'slidetype': <class 'pathml.core.slide_classes.HESlide'>}), ('(512, 2560)', {'name': None, 'labels': None, 'coords': '(512, 2560)', 'slidetype': <class 'pathml.core.slide_classes.HESlide'>}), ('(512, 512)', {'name': None, 'labels': None, 'coords': '(512, 512)', 'slidetype': <class 'pathml.core.slide_classes.HESlide'>}), ('(512, 768)', {'name': None, 'labels': None, 'coords': '(512, 768)', 'slidetype': <class 'pathml.core.slide_classes.HESlide'>}), ('(768, 0)', {'name': None, 'labels': None, 'coords': '(768, 0)', 'slidetype': <class 'pathml.core.slide_classes.HESlide'>}), ('(768, 1024)', {'name': None, 'labels': None, 'coords': '(768, 1024)', 'slidetype': <class 'pathml.core.slide_classes.HESlide'>}), ('(768, 1280)', {'name': None, 'labels': None, 'coords': '(768, 1280)', 'slidetype': <class 'pathml.core.slide_classes.HESlide'>}), ('(768, 1536)', {'name': None, 'labels': None, 'coords': '(768, 1536)', 'slidetype': <class 'pathml.core.slide_classes.HESlide'>}), ('(768, 1792)', {'name': None, 'labels': None, 'coords': '(768, 1792)', 'slidetype': <class 'pathml.core.slide_classes.HESlide'>}), ('(768, 2048)', {'name': None, 'labels': None, 'coords': '(768, 2048)', 'slidetype': <class 'pathml.core.slide_classes.HESlide'>}), ('(768, 2304)', {'name': None, 'labels': None, 'coords': '(768, 2304)', 'slidetype': <class 'pathml.core.slide_classes.HESlide'>}), ('(768, 256)', {'name': None, 'labels': None, 'coords': '(768, 256)', 'slidetype': <class 'pathml.core.slide_classes.HESlide'>}), ('(768, 2560)', {'name': None, 'labels': None, 'coords': '(768, 2560)', 'slidetype': <class 'pathml.core.slide_classes.HESlide'>}), ('(768, 512)', {'name': None, 'labels': None, 'coords': '(768, 512)', 'slidetype': <class 'pathml.core.slide_classes.HESlide'>}), ('(768, 768)', {'name': None, 'labels': None, 'coords': '(768, 768)', 'slidetype': <class 'pathml.core.slide_classes.HESlide'>})])), labels=None, history=None)"
      ]
     },
     "execution_count": 11,
     "metadata": {},
     "output_type": "execute_result"
    }
   ],
   "source": [
    "loadedwsi = read('slidedataobject.h5path')\n",
    "loadedwsi"
   ]
  }
 ],
 "metadata": {
  "kernelspec": {
   "display_name": "Python 3",
   "language": "python",
   "name": "python3"
  },
  "language_info": {
   "codemirror_mode": {
    "name": "ipython",
    "version": 3
   },
   "file_extension": ".py",
   "mimetype": "text/x-python",
   "name": "python",
   "nbconvert_exporter": "python",
   "pygments_lexer": "ipython3",
   "version": "3.8.8"
  }
 },
 "nbformat": 4,
 "nbformat_minor": 5
}
