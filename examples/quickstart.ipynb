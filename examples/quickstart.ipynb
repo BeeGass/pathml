{
 "cells": [
  {
   "cell_type": "markdown",
   "metadata": {},
   "source": [
    "# Quick Start\n",
    "\n",
    "This notebook will help you get started using `PathML`"
   ]
  }
 ],
 "metadata": {
  "kernelspec": {
   "display_name": "pathml-testing",
   "language": "python",
   "name": "pathml-testing"
  },
  "language_info": {
   "codemirror_mode": {
    "name": "ipython",
    "version": 3
   },
   "file_extension": ".py",
   "mimetype": "text/x-python",
   "name": "python",
   "nbconvert_exporter": "python",
   "pygments_lexer": "ipython3",
   "version": "3.7.7"
  }
 },
 "nbformat": 4,
 "nbformat_minor": 4
}
