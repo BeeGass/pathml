{
 "cells": [
  {
   "cell_type": "markdown",
   "id": "6a40d350-b3c7-46cb-a1d8-ce43d00d3bce",
   "metadata": {},
   "source": [
    "# Supplementary Vignette 1\n",
    "\n",
    "## Consistent API for loading images from diverse modalities and file formats\n",
    "\n",
    "`PathML` provides support for loading a wide array of imaging modalities and file formats under a standardized syntax. In this vignette, we highlight code snippets for loading: \n",
    "- an H&E image in SVS format\n",
    "- an H&E image in DICOM format\n",
    "- an immunofluorescence image from the CODEX spatial proteomics platform in TIFF format\n",
    "- an immunofluorescence image from the Vectra platform in QPTIFF format\n",
    "- a high-dimensional immunofluorescence image stacked along both the Z-axis and time axis in OME-TIFF format, along with specifying additional slide-level metadata (in this case, tissue type and tumor status information). "
   ]
  },
  {
   "cell_type": "code",
   "execution_count": null,
   "id": "ba983d1f-53a3-4fbc-858d-6e5e7f866bcc",
   "metadata": {},
   "outputs": [],
   "source": [
    "# import utilities for loading images\n",
    "import pathml.core import HESlide, CODEXSlide, VectraSlide, SlideData\n",
    "\n",
    "# load an H&E image in SVS format\n",
    "my_svs_image = HESlide(\"../data/image1.svs\")\n",
    "\n",
    "# load an H&E image in DICOM format\n",
    "my_dicom_image = HESlide(\"../data/image2.dcm\")\n",
    "\n",
    "# load an immunofluorescence (IF) image from the \n",
    "# CODEX platform in TIFF format\n",
    "my_codex_image = CODEXSlide(\"../data/image3.tiff\")\n",
    "\n",
    "# load an immunofluorescence (IF) image from the \n",
    "# Vectra platform in SVS format\n",
    "my_vectra_image = VectraSlide(\"../data/image4.qptiff\")\n",
    "\n",
    "# load a volumetric + time-series image in OME-TIFF format\n",
    "# with slide-level metadata \n",
    "my_volumetric_timeseries_image = SlideData(\n",
    "    \"../data/image5.ome.tiff\", \n",
    "    labels = {\"tissue_type\" : \"prostate\", \"tumor\" : True},\n",
    "    stain = \"fluor\",\n",
    "    volumetric = True,\n",
    "    time_series = True,\n",
    "    backend = \"bioformats\"\n",
    ")"
   ]
  },
  {
   "cell_type": "markdown",
   "id": "1844290f-1dc3-4557-958f-e487352adafc",
   "metadata": {},
   "source": [
    "The output from all of these example code snippets is a `SlideData` object compatible with the `PathML` preprocessing module.\n",
    "\n",
    "Code is available: https://github.com/Dana-Farber-AIOS/pathml/tree/master/examples/vignettes/vignette1.ipynb"
   ]
  }
 ],
 "metadata": {
  "kernelspec": {
   "display_name": "pathml",
   "language": "python",
   "name": "pathml"
  },
  "language_info": {
   "codemirror_mode": {
    "name": "ipython",
    "version": 3
   },
   "file_extension": ".py",
   "mimetype": "text/x-python",
   "name": "python",
   "nbconvert_exporter": "python",
   "pygments_lexer": "ipython3",
   "version": "3.8.0"
  }
 },
 "nbformat": 4,
 "nbformat_minor": 5
}
